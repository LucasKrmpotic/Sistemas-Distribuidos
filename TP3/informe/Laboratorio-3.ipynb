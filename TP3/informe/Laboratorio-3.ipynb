{
 "cells": [
  {
   "cell_type": "markdown",
   "metadata": {},
   "source": [
    "# Desarrolle un experimento (mediante Telnet o analizador de paquetes) que muestre si el servidor de HTTP agrega o quita información a la que genera un programa CGI. Nota: debería programar o utilizar un programa CGI para conocer exactamente lo que genera y debería mostrar la información que llega del lado del cliente, a nivel de HTTP o HTML (preferentemente HTTP)."
   ]
  },
  {
   "cell_type": "markdown",
   "metadata": {},
   "source": [
    "## Experimento con modulo \"request\" de python"
   ]
  },
  {
   "cell_type": "code",
   "execution_count": 1,
   "metadata": {},
   "outputs": [
    {
     "data": {
      "text/plain": [
       "200"
      ]
     },
     "execution_count": 1,
     "metadata": {},
     "output_type": "execute_result"
    }
   ],
   "source": [
    "import requests\n",
    "\n",
    "#r = requests.post(\"http://localhost/cgi-bin/hola.py\")\n",
    "r = requests.post(\"http://localhost:8080/cgi-bin/hola.py\")\n",
    "r.encoding\n",
    "r.status_code\n"
   ]
  },
  {
   "cell_type": "code",
   "execution_count": 2,
   "metadata": {},
   "outputs": [
    {
     "name": "stdout",
     "output_type": "stream",
     "text": [
      "{'Date': 'Mon, 05 Nov 2018 16:28:11 GMT', 'Server': 'Apache/2.4.37 (Unix)', 'Keep-Alive': 'timeout=5, max=100', 'Connection': 'Keep-Alive', 'Transfer-Encoding': 'chunked', 'Content-Type': 'text/html'}\n"
     ]
    }
   ],
   "source": [
    " \n",
    "print(r.headers)\n"
   ]
  },
  {
   "cell_type": "markdown",
   "metadata": {},
   "source": [
    "## Experimento desde Wireshark\n",
    "![error](images/pto1.png)"
   ]
  },
  {
   "cell_type": "markdown",
   "metadata": {},
   "source": [
    "## Conclusion \n",
    "\n",
    "Analizando el header, podemos ver que a nivel HTTP se agregan los campos de estado, fecha, servidor y última modificación.\n"
   ]
  },
  {
   "cell_type": "markdown",
   "metadata": {},
   "source": [
    "# Se debe desarrollar una aplicación que presente al usuario una página web con una opción de carga de datos y una opción de modificación de datos. La opción de carga consistirá en mostrar un formulario con un conjunto de datos a completar y que luego almacene estos datos en un archivo de texto plano. Los datos son:\n",
    "\n",
    "+ Nombre y Apellido (hasta 70 caracteres)\n",
    "\n",
    "+ Número de Alumno/Legajo (cantidad de dígitos limitada)\n",
    "\n",
    "+ Sexo (lista desplegable para elegir entre Masculino o Femenino)\n",
    "\n",
    "+ Edad (hasta dos dígitos)\n",
    "\n",
    "+ Contraseña (que no se muestre en pantalla)\n",
    "\n",
    "\n",
    "Para el caso de “modificación”, se deberá requerir Numero de Alumno y la Contraseña, si este par es encontrado en el archivo de texto plano, se muestra lo que ya se tiene para ser modificado como si se estuvieran cargando los datos, pero con los valores iniciales/default cargados del archivo. Utilizar cookies para permitir sucesivas modificaciones sobre los datos sin volver a pedir el legajo y palabra clave.\n",
    "\n",
    "Se deben desarrollar las páginas estáticas HTML, el o los programas CGI para procesar los datos y la distribución de estos componentes en el sistema de archivos.\n",
    "\n",
    "Justifique si este ejercicio puede ser considerado una aplicación web."
   ]
  },
  {
   "cell_type": "markdown",
   "metadata": {},
   "source": []
  },
  {
   "cell_type": "markdown",
   "metadata": {},
   "source": [
    "# Agregue a la aplicación del ejercicio 3 cuatro posibilidades de consultas básicas: por nombre y apellido (pueden haber “*”), Número de Alumno/Legajo (puede ser un intervalo), sexo, y edad (puede ser un intervalo). Los resultados deben mostrarse visualmente diferenciados. ej:\n",
    "\n",
    "| Nombre | Nro  |Edad | Sexo  |\n",
    "|--------|------|-----|-------|\n",
    "| nomrbe1|nro1  |edad1|sexo1  |\n",
    "| nomrbe2|nro2  |edad2|sexo2  |\n",
    "\n",
    "\n",
    "**COMENTARIO:** este ejercicio es para que se vea que el programa CGI debería combinar la generación de HMTL con el resultado de lo que se procesa localmente en el servidor. Y que el HTML generado puede ser \"largo\". El programa CGI puede estar en el lenguaje que se desee."
   ]
  },
  {
   "cell_type": "markdown",
   "metadata": {},
   "source": []
  },
  {
   "cell_type": "markdown",
   "metadata": {},
   "source": [
    "# Agregue a la aplicación la consulta de valores totales por rango de edad (0-20, 20-40, mas de 40) y sexo.\n",
    "\n",
    "**COMENTARIO:** este ejercicio es para que se vea que la mayor parte del procesamiento en el lado\n",
    "del servidor puede ser solamente para computar valores simples a mostrar, pero que pueden ser\n",
    "resultado de procesamiento relativamente complejo."
   ]
  },
  {
   "cell_type": "markdown",
   "metadata": {},
   "source": []
  },
  {
   "cell_type": "markdown",
   "metadata": {},
   "source": [
    "# Tome el código que se adjunta como Anexo 5 del apunte de AJAX y agregue las siguientes mejora de funcionalidad:\n",
    "\n",
    "+ **a)** Agregar un botón a la ventana principal de chat, a efectos que un usuario ingresante pueda registrarse en el sitio. El usuario ingresará su “Nick” y al pulsar el botón, se registrará en un archivo data/usuarios.txt en el servidor.\n",
    "\n",
    "+ **b)** Producido el registro, se devolverá al usuario una lista total de usuarios registrados en una pequeña ventana a la derecha de la ventana común de mensajes y también se devolverá toda la conversación entre usuarios registrada hasta ese momento.\n",
    "\n",
    "+ **c)** Intentar establecer la actualización incremental del chat, mediante el almacenamiento en cada cliente de la última línea de chat enviada."
   ]
  },
  {
   "cell_type": "markdown",
   "metadata": {},
   "source": []
  },
  {
   "cell_type": "markdown",
   "metadata": {},
   "source": [
    "# DFS:\n",
    "\n",
    "+ **a)** Configurar NFS y efectuar un compartimiento de archivos entre un Servidor y un Cliente Linux. Describir la operatoria en el informe.\n",
    "\n",
    "+ **b)** Configurar Samba y efectuar un compartimiento de archivos entre un Windows y un Cliente Linux. Describir la operatoria en el informe."
   ]
  },
  {
   "cell_type": "markdown",
   "metadata": {},
   "source": [
    "\n",
    "## NFS\n",
    "\n",
    "Un NFS nos permite acceso local a archivos remotos y utiliza una arquitectura estándar cliente-servidor para compartir archivos entre maquinas con SO basados en unix. Aún así, no es necesario que las dos máquinas corran el mismo sistema operativo.\n",
    "\n",
    "En nuestro caso configuramos NFS para una distribucion ArchLinux. \n",
    "\n",
    "Como primer paso debemos instalar el paquete **nfs-utils**. \n",
    "\n",
    "```\n",
    "sudo pacman -S nfs-utils\n",
    "```\n",
    "### Configuracion\n",
    "\n",
    "+ Iniciar y abilitar los servicios de NFS\n",
    "\n",
    "```\n",
    "systemctl start nfs-server.service\n",
    "```\n",
    "```\n",
    "systemctl enable nfs-server.service\n",
    "```\n",
    "Ahora bien, algunos de los archivos más importantes que entran en juego con NFS son (Con sus rutas absolutas en ArchLinux):\n",
    "+ /etc/exports: Es el archivo primario de configuración de NFS. Todos los archivos y carpetas exportados que se especifican en este archivo son los que se sirven.\n",
    "+ /etc/fstab: Archivo de FS de linux en el que se especifican los puntos de montaje de las diferentes particiones. Se utiliza para definir un mounpoint para el/los directorio/s de NFS (Y que persistan luego de reiniciar el sistema).\n",
    "+ /etc/idmapd.conf: Archivo en el que se realiza el mapeo de IDs. Utilizado principalmente para definir el nombre del dominio para que el servicio se configure correctamente.\n",
    "\n",
    "### Mapeo de ID\n",
    "\n",
    "+ Para este paso hay que modificar el archivo de configuracion **/etc/idmapd.conf** y establezca el campo **Domain** con el nombre de dominio.\n",
    "\n",
    "+ Seguidamente, creamos el recurso que vamos a servir. En este caso es una carpeta que ubicaremos en **/srv/nfs4/datos**\n",
    "\n",
    "```\n",
    "sudo mkdir -p /srv/nfs4/datos\n",
    "```\n",
    "\n",
    "+ Luego creamos la carpeta del sistema de archivos del servidor en donde será montado el recurso a compartir:\n",
    "\n",
    "\n",
    "```\n",
    "sudo mkdir /mnt/datos\n",
    "```\n",
    "Se deben otorgar permisos de lectura/escritura al directorio **datos** para que los clientes puedan escribir en él.\n",
    "\n",
    "+ Luego, como siguiente paso es montar el directorio que desea compartir, en este caso **/mnt/datos**, en el directorio compartido de NFS a través de la instrucción de montaje.\n",
    "\n",
    "```\n",
    "mount --bind /mnt/datos /srv/nfs4/datos\n",
    "```\n",
    "Para hacer que los cambios sean permanentes en cada reinicio del servidor, añada el enlace de montaje a **fstab**\n",
    "\n",
    "![error](images/fstab.png)\n",
    "\n",
    "### Exportacion\n",
    "Como siguiente paso, se añaden los directorios que se compartirán y la dirección IP o nombre de servidor de las máquinas cliente a las que les estará permitido montarlas en **exports**:\n",
    "\n",
    "![error](images/exports.png)\n",
    "\n",
    "Si se modifica **/etc/exports** mientras el servidor está funcionando, debe volver a exportarlos para que los cambios surtan efecto.\n",
    "\n",
    "```\n",
    "exportfs -rav\n",
    "```\n",
    "![error](images/exportfs.png)\n",
    "\n",
    "Finalmente, para levantar el servidor, debemos arrancar los servicios **rpcbind** y **nfs-client.target**.\n",
    "\n",
    "\n",
    "```\n",
    "systemctl start rpcbind nfs-client.target\n",
    "```\n",
    "\n",
    "## SAMBA\n",
    "\n",
    "Como paso inicial debemos instalar el paquete de **samba**.\n",
    "\n",
    "```\n",
    "sudo pacman -S samba\n",
    "```\n",
    "Samba se configura en el **/etc/samba/smb.conf**.\n",
    "\n",
    "Debido a que el paquete samba no proporciona este archivo, se debe crear antes de iniciar samba.\n",
    "\n",
    "Utilizamos un ejemplo documentado **smb.conf.default** desde el repositorio de git de **Samba** para la configuración **/etc/samba/smb.conf**.\n",
    "\n",
    "Link:  <https://git.samba.org/samba.git/?p=samba.git;a=blob_plain;f=examples/smb.conf.default;hb=HEAD>\n",
    "\n",
    "+ Siempre que modifique el smb.confarchivo, es recomendable ejecutar el comando **testparm** para verificar si hay errores sintácticos.\n",
    "\n",
    "```\n",
    "testparm\n",
    "```\n",
    "![error](images/testparm1.png)\n",
    "![error](images/testparm2.png)\n",
    "\n",
    "### Gestión de usuarios\n",
    "\n",
    "Samba requiere una cuenta de usuario de Linux. Puede usar una cuenta de usuario existente o crear una nueva.\n",
    "Aunque el nombre de usuario se comparte con el sistema Linux, Samba usa una contraseña separada de la de las cuentas de usuario de Linux. Reemplazar **samba_usercon** la cuenta de usuario Samba elegida:\n",
    "\n",
    "```\n",
    "smbpasswd -a samba_user\n",
    "```\n",
    "\n",
    "Luego, del lado del cliente (Workgroup del equipo): Debemos asegurarnos que los servicios smbd y nmbd estén corriendo (Ya sea con START o ENABLE). Esto inicia la escucha del servidor.\n",
    "\n",
    "Ahora es necesario crear el recurso compartido. Hacemos una carpeta en **/var/lib/samba** llamada **usershare** (Quedando como: **/var/lib/samba/usershare**).\n",
    "\n",
    "Ahora vamos a modificar los permisos sobre esa carpeta. Típicamente lo que se hace es crear un grupo de usuarios que se puede llamar **sambashare** y se le asignan permisos de lectura/escritura sobre el recurso compartido. Paso a paso tenemos:\n",
    "\n",
    "+ Creamos el grupo sambashare con el comando **groupadd -r sambashare**\n",
    "+ Cambiamos el grupo dueño de la carpeta compartida con el comando “chown root:sambashare /var/lib/samba/usershare”.\n",
    "+ Cambiamos los permisos a nivel de FS sobre la carpeta compartida con el comando “chmod 770 /var/lib/samba/usershare”\n",
    "+ En el archivo de configuración de samba (smb.conf) debemos agregar el recurso compartido. \n",
    "Un posible ejemplo de esto podría ser:\n",
    "```\n",
    "[global]\n",
    " usershare path = /var/lib/samba/usershare\n",
    " usershare max shares = 100\n",
    " usershare allow guests = yes\n",
    " usershare owner only = yes\n",
    "```\n",
    "\n",
    "Finalmente, agregamos el usuario al grupo **sambashare** con el comando **gpasswd sambashare -a usuario**. Luego de esto, es necesario reiniciar la sesión del SO para que se apliquen los cambios.\n",
    "```\n",
    "gpasswd sambashare -a usuario\n",
    "```\n"
   ]
  },
  {
   "cell_type": "markdown",
   "metadata": {},
   "source": [
    "# DNS:\n",
    "\n",
    "**Objetivo:** Observar las llamadas implícitas a DNS y ponderar tiempos de acceso. Efectuar el siguiente experimento, verificando información con la ayuda de un analizador de protocolo:\n",
    "\n",
    "+ **a)** Desde el browser haga una conexión a una página WEB de argentina, que haya utilizado hace mucho tiempo o que no haya utilizado (un diario, un blog, etc.). Obtenga la diferencia temporal entre la consulta que se observa en el analizador y su respuesta.\n",
    "\n",
    "![error](images/servidor_nacional.png)\n",
    "\n",
    "\n",
    "+ **b)** Haga lo mismo con una página no frecuentada por Ud. que se supone que está situada en un servidor europeo o de Asia. (la página oficial del grupo Nightwish, o algún diario galés, etc.). Compare sus conclusiones con las obtenidas en el caso a).\n",
    "\n",
    "Se puede ver claramente que que el tiempo de respuesta es mucho mayor a la respuesta a un servidor nacional (como el del anterior caso).\n",
    "\n",
    "![error](images/server_externo.png)\n",
    "\n",
    "+ **c)** Vuelva nuevamente a invocar la página seleccionada en a), (que se supone ya reside en su caché). Compare resultados.\n",
    "\n",
    "Se puede ver la significativa mejora en el tiempo de respuesta de la peticion, esto es porque la pagina reside en nuestra cache. Siempre que una pagina resida en la cache, la respuesta sera mucho mas rapida.\n",
    "\n",
    "![error](images/cacheado.png)\n",
    "\n",
    "+ **d)** Aporte las conclusiones que puede sacar del experimento.\n",
    "\n",
    "Como pudimos observar en las distintas experiencias, es más rápido resolver una consulta de una página nacional (www.lanacion.com.ar) que una europea (www.fortnite.com). Sin embargo los tiempos de respuesta cambian favorablemente cuando se encuentran cacheadas las páginas, las respuestas son significativamente mas rapidas."
   ]
  },
  {
   "cell_type": "markdown",
   "metadata": {},
   "source": []
  },
  {
   "cell_type": "code",
   "execution_count": null,
   "metadata": {},
   "outputs": [],
   "source": []
  }
 ],
 "metadata": {
  "kernelspec": {
   "display_name": "Python 3",
   "language": "python",
   "name": "python3"
  },
  "language_info": {
   "codemirror_mode": {
    "name": "ipython",
    "version": 3
   },
   "file_extension": ".py",
   "mimetype": "text/x-python",
   "name": "python",
   "nbconvert_exporter": "python",
   "pygments_lexer": "ipython3",
   "version": "3.7.1"
  }
 },
 "nbformat": 4,
 "nbformat_minor": 2
}
