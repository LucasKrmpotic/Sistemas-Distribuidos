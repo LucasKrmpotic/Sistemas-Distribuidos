{
 "cells": [
  {
   "cell_type": "code",
   "execution_count": 88,
   "metadata": {},
   "outputs": [
    {
     "name": "stdout",
     "output_type": "stream",
     "text": [
      "  nombre  legajo       sexo  edad  password\n",
      "0   maxi      12  masculino    24        31\n",
      "1   maxi     121  masculino    24       321\n",
      "2   maxi     122  masculino    24       321\n",
      "3   otro      32  masculino    30       123\n"
     ]
    }
   ],
   "source": [
    "import pandas as pd\n",
    "alumnos = pd.read_csv('alumnos.csv')\n",
    "print(alumnos)\n"
   ]
  },
  {
   "cell_type": "code",
   "execution_count": 89,
   "metadata": {},
   "outputs": [
    {
     "name": "stdout",
     "output_type": "stream",
     "text": [
      "error\n"
     ]
    }
   ],
   "source": [
    "legajo = 32\n",
    "alumno = ['otro', legajo, 'masculino', 30, 123 ]\n",
    "\n",
    "if len(alumnos[alumnos['legajo'] == legajo]) > 0:\n",
    "    print('error')\n",
    "else:\n",
    "    alumnos.loc[len(alumnos)] = alumno \n",
    "    alumnos.to_csv('alumnos.csv', index=False) "
   ]
  },
  {
   "cell_type": "code",
   "execution_count": 90,
   "metadata": {},
   "outputs": [
    {
     "data": {
      "text/html": [
       "<div>\n",
       "<style>\n",
       "    .dataframe thead tr:only-child th {\n",
       "        text-align: right;\n",
       "    }\n",
       "\n",
       "    .dataframe thead th {\n",
       "        text-align: left;\n",
       "    }\n",
       "\n",
       "    .dataframe tbody tr th {\n",
       "        vertical-align: top;\n",
       "    }\n",
       "</style>\n",
       "<table border=\"1\" class=\"dataframe\">\n",
       "  <thead>\n",
       "    <tr style=\"text-align: right;\">\n",
       "      <th></th>\n",
       "      <th>nombre</th>\n",
       "      <th>legajo</th>\n",
       "      <th>sexo</th>\n",
       "      <th>edad</th>\n",
       "      <th>password</th>\n",
       "    </tr>\n",
       "  </thead>\n",
       "  <tbody>\n",
       "    <tr>\n",
       "      <th>0</th>\n",
       "      <td>maxi</td>\n",
       "      <td>12</td>\n",
       "      <td>masculino</td>\n",
       "      <td>24</td>\n",
       "      <td>31</td>\n",
       "    </tr>\n",
       "    <tr>\n",
       "      <th>1</th>\n",
       "      <td>maxi</td>\n",
       "      <td>121</td>\n",
       "      <td>masculino</td>\n",
       "      <td>24</td>\n",
       "      <td>321</td>\n",
       "    </tr>\n",
       "    <tr>\n",
       "      <th>2</th>\n",
       "      <td>maxi</td>\n",
       "      <td>122</td>\n",
       "      <td>masculino</td>\n",
       "      <td>24</td>\n",
       "      <td>321</td>\n",
       "    </tr>\n",
       "    <tr>\n",
       "      <th>3</th>\n",
       "      <td>otro</td>\n",
       "      <td>32</td>\n",
       "      <td>masculino</td>\n",
       "      <td>30</td>\n",
       "      <td>123</td>\n",
       "    </tr>\n",
       "  </tbody>\n",
       "</table>\n",
       "</div>"
      ],
      "text/plain": [
       "  nombre  legajo       sexo  edad  password\n",
       "0   maxi      12  masculino    24        31\n",
       "1   maxi     121  masculino    24       321\n",
       "2   maxi     122  masculino    24       321\n",
       "3   otro      32  masculino    30       123"
      ]
     },
     "execution_count": 90,
     "metadata": {},
     "output_type": "execute_result"
    }
   ],
   "source": [
    "arch = pd.read_csv('alumnos.csv')\n",
    "arch"
   ]
  },
  {
   "cell_type": "code",
   "execution_count": null,
   "metadata": {
    "collapsed": true
   },
   "outputs": [],
   "source": []
  },
  {
   "cell_type": "code",
   "execution_count": null,
   "metadata": {
    "collapsed": true
   },
   "outputs": [],
   "source": []
  },
  {
   "cell_type": "code",
   "execution_count": null,
   "metadata": {
    "collapsed": true
   },
   "outputs": [],
   "source": []
  },
  {
   "cell_type": "code",
   "execution_count": null,
   "metadata": {
    "collapsed": true
   },
   "outputs": [],
   "source": []
  },
  {
   "cell_type": "code",
   "execution_count": null,
   "metadata": {
    "collapsed": true
   },
   "outputs": [],
   "source": []
  },
  {
   "cell_type": "code",
   "execution_count": 99,
   "metadata": {},
   "outputs": [
    {
     "data": {
      "text/html": [
       "<div>\n",
       "<style>\n",
       "    .dataframe thead tr:only-child th {\n",
       "        text-align: right;\n",
       "    }\n",
       "\n",
       "    .dataframe thead th {\n",
       "        text-align: left;\n",
       "    }\n",
       "\n",
       "    .dataframe tbody tr th {\n",
       "        vertical-align: top;\n",
       "    }\n",
       "</style>\n",
       "<table border=\"1\" class=\"dataframe\">\n",
       "  <thead>\n",
       "    <tr style=\"text-align: right;\">\n",
       "      <th></th>\n",
       "      <th>nombre</th>\n",
       "      <th>legajo</th>\n",
       "      <th>sexo</th>\n",
       "      <th>edad</th>\n",
       "      <th>password</th>\n",
       "    </tr>\n",
       "  </thead>\n",
       "  <tbody>\n",
       "    <tr>\n",
       "      <th>0</th>\n",
       "      <td>maxi</td>\n",
       "      <td>12</td>\n",
       "      <td>masculino</td>\n",
       "      <td>24</td>\n",
       "      <td>31</td>\n",
       "    </tr>\n",
       "    <tr>\n",
       "      <th>1</th>\n",
       "      <td>maxi</td>\n",
       "      <td>121</td>\n",
       "      <td>masculino</td>\n",
       "      <td>24</td>\n",
       "      <td>321</td>\n",
       "    </tr>\n",
       "    <tr>\n",
       "      <th>2</th>\n",
       "      <td>maxi</td>\n",
       "      <td>122</td>\n",
       "      <td>masculino</td>\n",
       "      <td>24</td>\n",
       "      <td>321</td>\n",
       "    </tr>\n",
       "    <tr>\n",
       "      <th>3</th>\n",
       "      <td>otro</td>\n",
       "      <td>32</td>\n",
       "      <td>masculino</td>\n",
       "      <td>30</td>\n",
       "      <td>123</td>\n",
       "    </tr>\n",
       "  </tbody>\n",
       "</table>\n",
       "</div>"
      ],
      "text/plain": [
       "  nombre  legajo       sexo  edad  password\n",
       "0   maxi      12  masculino    24        31\n",
       "1   maxi     121  masculino    24       321\n",
       "2   maxi     122  masculino    24       321\n",
       "3   otro      32  masculino    30       123"
      ]
     },
     "execution_count": 99,
     "metadata": {},
     "output_type": "execute_result"
    }
   ],
   "source": [
    "nombre = 'alguno'\n",
    "legajo_desde = 12\n",
    "legajo_hasta = 122\n",
    "sexo = 'femenino'\n",
    "edad_desde = 20\n",
    "edad_hasta = 25\n",
    "\n",
    "\n",
    "alumnos_result = alumnos[(alumnos['nombre'] == nombre) | ( str(alumnos['sexo']) == sexo) | \\\n",
    "                         ((alumnos['legajo'] >= int(legajo_desde)) & (alumnos['legajo'] <= int(legajo_hasta))) | \\\n",
    "                         ((alumnos['edad'] >= int(edad_desde)) & (alumnos['edad'] <= int(edad_hasta)))]\n",
    "\n",
    "alumnos_result"
   ]
  },
  {
   "cell_type": "code",
   "execution_count": null,
   "metadata": {
    "collapsed": true
   },
   "outputs": [],
   "source": []
  },
  {
   "cell_type": "code",
   "execution_count": null,
   "metadata": {
    "collapsed": true
   },
   "outputs": [],
   "source": []
  }
 ],
 "metadata": {
  "kernelspec": {
   "display_name": "Python 3",
   "language": "python",
   "name": "python3"
  },
  "language_info": {
   "codemirror_mode": {
    "name": "ipython",
    "version": 3
   },
   "file_extension": ".py",
   "mimetype": "text/x-python",
   "name": "python",
   "nbconvert_exporter": "python",
   "pygments_lexer": "ipython3",
   "version": "3.6.2"
  }
 },
 "nbformat": 4,
 "nbformat_minor": 2
}
