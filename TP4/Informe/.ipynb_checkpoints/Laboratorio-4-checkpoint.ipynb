{
 "cells": [
  {
   "cell_type": "markdown",
   "metadata": {},
   "source": [
    "# Código móvil"
   ]
  },
  {
   "cell_type": "markdown",
   "metadata": {},
   "source": [
    "## 1. Código móvil:"
   ]
  },
  {
   "cell_type": "markdown",
   "metadata": {},
   "source": [
    "### a) Desarrollar, utilizando agentes móviles en JADE, un sistema rfs con las cuatro operaciones básicas: open, close, read y write."
   ]
  },
  {
   "cell_type": "code",
   "execution_count": null,
   "metadata": {},
   "outputs": [],
   "source": []
  },
  {
   "cell_type": "markdown",
   "metadata": {},
   "source": [
    "### b) Efectúe una instalación de JADE de modo tal de tener su contenedor principal corriendo en una maquina y un contenedor-1 corriendo en otra máquina de modo tal que este último contenga los archivos que serán objeto de la lectura/escritura."
   ]
  },
  {
   "cell_type": "markdown",
   "metadata": {},
   "source": [
    "Descargar la plataforma desde su sitio oficial: **http://jade.tilab.com/download/jade**, luego descomprimimos los diferentes ZIP en el mismo directorio, lo que nos dará la siguiente estructura de directorios:\n",
    "\n",
    "![](images/jade.png)\n",
    "\n",
    "#### Modo de ejecución\n",
    "Para lanzar la aplicación, se debe ejecutar el siguiente comando desde el directorio Jade:\n",
    "    \n",
    "    java -cp lib/jade.jar jade.Boot -gui\n",
    "\n",
    "#### Comandos útiles\n",
    "Para compilar un agente corremos el comando:\n",
    "\n",
    "    javac -cp lib/jade.jar -d <destino> <ruta fuente a compilar>\n",
    "\n",
    "Para iniciar un nuevo contenedor el comando es:\n",
    "\n",
    "    java -cp lib/jade.jar:classes/ jade.Boot -container\n",
    "    \n",
    "Para iniciar un nuevo contenedor y asignarle un nombre el comando es:\n",
    "\n",
    "    java -cp lib/jade.jar:classes/ jade.Boot -container -container <nombre>\n",
    "\n",
    "Para la creación de un contenedor remoto:\n",
    "    \n",
    "    java -cp lib/jade.jar:classes/ jade.Boot -container -host <ip_dst> -local-host <ip_src>\n"
   ]
  },
  {
   "cell_type": "markdown",
   "metadata": {},
   "source": [
    "### c) Describa en qué cambia la arquitectura de la solución y cuáles son las ventajas y desventajas comparando esta solución con el estándar cliente/servidor."
   ]
  },
  {
   "cell_type": "code",
   "execution_count": null,
   "metadata": {},
   "outputs": [],
   "source": []
  },
  {
   "cell_type": "markdown",
   "metadata": {},
   "source": [
    "### d) Identifique las similitudes y diferencias de distribución/movilidad de código entre RMI y Jade."
   ]
  },
  {
   "cell_type": "code",
   "execution_count": null,
   "metadata": {},
   "outputs": [],
   "source": []
  },
  {
   "cell_type": "markdown",
   "metadata": {},
   "source": [
    "## 2. Programar un agente móvil para que periódicamente recorra una secuencia de computadoras y conforme una tabla que contenga:"
   ]
  },
  {
   "cell_type": "markdown",
   "metadata": {},
   "source": [
    "### a) La Dirección IP o nombre de Host de cada una de ellas."
   ]
  },
  {
   "cell_type": "markdown",
   "metadata": {},
   "source": [
    "### b) La Hora de llegada a cada una."
   ]
  },
  {
   "cell_type": "markdown",
   "metadata": {},
   "source": [
    "### c) La carga de procesamiento de cada una de ellas."
   ]
  },
  {
   "cell_type": "markdown",
   "metadata": {},
   "source": [
    "### d) Alguna otra información de interés que se le ocurra."
   ]
  },
  {
   "cell_type": "markdown",
   "metadata": {},
   "source": [
    "### Al llegar a cada una de las computadoras el agente debe permanecer allí al menos 10 segundos, emitiendo una alerta en la pantalla local que indique su presencia."
   ]
  },
  {
   "cell_type": "markdown",
   "metadata": {},
   "source": [
    "### Al retorno al punto de origen, se presentará la tabla, indicando además el tiempo total ocupado en el recorrido para recolectar la información."
   ]
  },
  {
   "cell_type": "markdown",
   "metadata": {},
   "source": [
    "## 3. Realizar y documentar los siguientes experimentos:"
   ]
  },
  {
   "cell_type": "markdown",
   "metadata": {},
   "source": [
    "### Transferir un archivo de gran tamaño (GBs) completo las siguientes condiciones:\n"
   ]
  },
  {
   "cell_type": "markdown",
   "metadata": {},
   "source": [
    "### a) En la versión con Java Sockets del TP1."
   ]
  },
  {
   "cell_type": "markdown",
   "metadata": {},
   "source": [
    "### b) En la versión Java RMI del TP2."
   ]
  },
  {
   "cell_type": "markdown",
   "metadata": {},
   "source": [
    "### c) En la versión con Agentes Móviles del punto 1"
   ]
  },
  {
   "cell_type": "markdown",
   "metadata": {},
   "source": [
    "### Utilizar las primitivas de lectura o escritura con un tamaño de buffer igual y cronometrar (que el mismo cliente muestre cuanto demoró), en los tres casos, sacando las conclusiones de cada caso respecto a la performance de cada solución. Documentar lo realizado."
   ]
  },
  {
   "cell_type": "markdown",
   "metadata": {},
   "source": [
    "# Comunicación Indirecta: MQTT e IoT"
   ]
  },
  {
   "cell_type": "markdown",
   "metadata": {},
   "source": [
    "## 4. Realizar el siguiente desarrollo"
   ]
  },
  {
   "cell_type": "markdown",
   "metadata": {},
   "source": [
    "### a. Tomar dos kits de desarrollo (Galileo o Arduino) e instrumentar un protocolo de aplicación en modo Publicador/Suscriptor sobre MQTT, sobre la base de Tópicos y valores. Habrá una placa con sensores y actuadores y se simulará una aplicación de comando/monitor mediante MQTT-Spy (java).\n",
    "\n",
    "### En la placa publicadora instrumentar: Una medición de temperatura, dos botones (por touch y pulsado), como sensores y dos Leds (Rojo azul) como actuadores. La temperatura se publicará cada 10 segundos. El cambio de estado de los botones se publicará cuando ocurra y en modo eventual con estampa temporal."
   ]
  },
  {
   "cell_type": "markdown",
   "metadata": {},
   "source": [
    "### b. Probando con el servidor Mosquitto en localhost analizar mediante wireshark –en modo comando por consola o utilizando el MQTT-Spy en Java -, como es el comportamiento de los mensajes variando las distintas QOS (0, 1 y 2). Informe lo observado."
   ]
  },
  {
   "cell_type": "markdown",
   "metadata": {},
   "source": [
    "### c. Investigar sobre ANDROID utilizando una app de MQTT (ej: Mqtt DashBoard) y publicar mensajes del protocolo de aplicación desarrollado en el apartado a) para controlar y monitorear los sensores y actuadores de la placa."
   ]
  },
  {
   "cell_type": "code",
   "execution_count": null,
   "metadata": {},
   "outputs": [],
   "source": []
  }
 ],
 "metadata": {
  "kernelspec": {
   "display_name": "Python 3",
   "language": "python",
   "name": "python3"
  },
  "language_info": {
   "codemirror_mode": {
    "name": "ipython",
    "version": 3
   },
   "file_extension": ".py",
   "mimetype": "text/x-python",
   "name": "python",
   "nbconvert_exporter": "python",
   "pygments_lexer": "ipython3",
   "version": "3.7.1"
  }
 },
 "nbformat": 4,
 "nbformat_minor": 2
}
